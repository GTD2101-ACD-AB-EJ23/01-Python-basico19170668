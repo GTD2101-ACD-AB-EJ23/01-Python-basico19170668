{
  "cells": [
    {
      "attachments": {},
      "cell_type": "markdown",
      "metadata": {},
      "source": [
        "# Funciones\n",
        "\n",
        "En este JNB se revisará el tema de Funciones"
      ]
    },
    {
      "cell_type": "code",
      "execution_count": 4,
      "metadata": {
        "id": "O8NoTzxjs2wK",
        "outputId": "fa4bc249-a4fa-48a6-9dc6-7733646ed223"
      },
      "outputs": [
        {
          "name": "stdout",
          "output_type": "stream",
          "text": [
            "Hello World!\n"
          ]
        }
      ],
      "source": [
        "print(\"Hello World!\")"
      ]
    },
    {
      "attachments": {},
      "cell_type": "markdown",
      "metadata": {},
      "source": [
        "## FUNCION QUE CALCULA EL CUADRADO DE UN NUMERO"
      ]
    },
    {
      "cell_type": "code",
      "execution_count": 3,
      "metadata": {},
      "outputs": [],
      "source": [
        "def cuadrado(numero):\n",
        "    return numero ** 2"
      ]
    },
    {
      "cell_type": "code",
      "execution_count": 5,
      "metadata": {},
      "outputs": [],
      "source": [
        "def cuadrado(numero):\n",
        "    print(f\"estamos calculando el cuadrado de {numero}\")\n",
        "    return numero ** 2"
      ]
    },
    {
      "attachments": {},
      "cell_type": "markdown",
      "metadata": {},
      "source": [
        "## Una funcion mas compleja "
      ]
    },
    {
      "cell_type": "code",
      "execution_count": 7,
      "metadata": {},
      "outputs": [],
      "source": [
        "def get_pay(num_hours):\n",
        "    # Pre-tax pay, based on receiving $15/hour\n",
        "    pay_pretax = num_hours * 15\n",
        "    # After-tax pay, based on being in 12% tax bracket\n",
        "    pay_aftertax = pay_pretax * (1 - .12)\n",
        "    return pay_aftertax"
      ]
    },
    {
      "cell_type": "code",
      "execution_count": 8,
      "metadata": {},
      "outputs": [
        {
          "name": "stdout",
          "output_type": "stream",
          "text": [
            "tu pago total es de: 2\n"
          ]
        }
      ],
      "source": [
        "horas_trabajadas = int(input (\"Dime tus horas trabajadas\"))\n",
        "pago_total = get_pay(horas_trabajadas)\n",
        "print(f\"tu pago total es de: {horas_trabajadas}\")"
      ]
    }
  ],
  "metadata": {
    "colab": {
      "include_colab_link": true,
      "provenance": []
    },
    "kernelspec": {
      "display_name": "Python 3",
      "language": "python",
      "name": "python3"
    },
    "language_info": {
      "codemirror_mode": {
        "name": "ipython",
        "version": 3
      },
      "file_extension": ".py",
      "mimetype": "text/x-python",
      "name": "python",
      "nbconvert_exporter": "python",
      "pygments_lexer": "ipython3",
      "version": "3.10.4"
    },
    "orig_nbformat": 4,
    "vscode": {
      "interpreter": {
        "hash": "3ad933181bd8a04b432d3370b9dc3b0662ad032c4dfaa4e4f1596c548f763858"
      }
    }
  },
  "nbformat": 4,
  "nbformat_minor": 0
}
